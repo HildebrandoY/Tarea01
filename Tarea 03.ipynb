{
  "nbformat": 4,
  "nbformat_minor": 0,
  "metadata": {
    "colab": {
      "name": "Untitled8.ipynb",
      "provenance": []
    },
    "kernelspec": {
      "name": "python3",
      "display_name": "Python 3"
    }
  },
  "cells": [
    {
      "cell_type": "markdown",
      "metadata": {
        "id": "CpONuERAJOZU"
      },
      "source": [
        "#Tarea 03\r\n"
      ]
    },
    {
      "cell_type": "code",
      "metadata": {
        "colab": {
          "base_uri": "https://localhost:8080/"
        },
        "id": "jy5pXRoCJR77",
        "outputId": "4b2dba6d-abb7-4215-db89-07123f270ec7"
      },
      "source": [
        "Carne = \"Doble triple\"\r\n",
        "Salsa = \"De Coral\"\r\n",
        "Decorado = \"De lujo\"\r\n",
        "Estilo = \"Animal\"\r\n",
        "Guijarros = \"Extra\"\r\n",
        "Vibración = \"Exprimida\"\r\n",
        "Eje = \"Con grasa ligera\"\r\n",
        "Hazlo = \"Llorar\"\r\n",
        "Quémalo = \"Huachicol Style\"\r\n",
        "Nadando = \"Sí\"\r\n",
        "Pepinillos = \"Sí\"\r\n",
        "\r\n",
        "\r\n",
        "if (Carne == \"De chivo albino\" or\r\n",
        "Salsa == \"De nalga\" or\r\n",
        "Decorado == \"Royal style\" or\r\n",
        "Estilo == \"Fresco\" or \r\n",
        "Guijarros == \"Media corteza terrestre\" or\r\n",
        "Vibración == \"Wtf\" or\r\n",
        "Eje == \"Absisas\" or \r\n",
        "Hazlo == \"Si\" or\r\n",
        "Quémalo == \"Huachicol Style\" or\r\n",
        "Nadando == \"No\" or\r\n",
        "Pepinillos == \"No\"):\r\n",
        "  print(\"Quiere la kangreburguer\")\r\n",
        "else:\r\n",
        "  print(\"No quiere la kangrebuger\")\r\n",
        "\r\n"
      ],
      "execution_count": 3,
      "outputs": [
        {
          "output_type": "stream",
          "text": [
            "Quiere la kangreburguer\n"
          ],
          "name": "stdout"
        }
      ]
    }
  ]
}