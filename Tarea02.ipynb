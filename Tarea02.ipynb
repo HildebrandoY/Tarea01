{
  "nbformat": 4,
  "nbformat_minor": 0,
  "metadata": {
    "colab": {
      "name": "Tarea02.ipynb",
      "provenance": []
    },
    "kernelspec": {
      "name": "python3",
      "display_name": "Python 3"
    }
  },
  "cells": [
    {
      "cell_type": "markdown",
      "metadata": {
        "id": "uG8Nihmf21PG"
      },
      "source": [
        "#Carros, diccionario "
      ]
    },
    {
      "cell_type": "code",
      "metadata": {
        "colab": {
          "base_uri": "https://localhost:8080/"
        },
        "id": "G8n1MSvb26jt",
        "outputId": "7941a9e7-23da-4b78-e28d-fc75c99cbc05"
      },
      "source": [
        "#carros \r\n",
        "Carros=[\r\n",
        "{\r\n",
        "    \"Matricula\":\" \" ,\r\n",
        "    \"Modelo\":\" \",\r\n",
        "    \"Año\":\" \"\r\n",
        "},\r\n",
        "{\r\n",
        "   \"Matricula\":\" \" ,\r\n",
        "    \"Modelo\":\" \",\r\n",
        "    \"Año\":\" \"  \r\n",
        "},\r\n",
        "]\r\n",
        "\r\n",
        "Matricula_1=int(input(\"Escribe la matricula: \"))\r\n",
        "\r\n",
        "Modelo_1=input(\"Coloca el modelo de carro: \")\r\n",
        "\r\n",
        "Año_1=int(input(\"Introduce el año: \"))\r\n",
        "\r\n",
        "#Otro Diccionario \r\n",
        "\r\n",
        "Matricula_2=int(input(\"Escribe la matricula: \"))\r\n",
        "\r\n",
        "Modelo_2=input(\"Coloca el modelo de carro: \")\r\n",
        "\r\n",
        "Año_2=int(input(\"Introduce el año: \"))\r\n",
        "\r\n",
        "\r\n",
        "Carros[0].update({'Matricula':Matricula_1})\r\n",
        "Carros[0].update({'Modelo':Modelo_1})\r\n",
        "Carros[0].update({'Año':Año_1})\r\n",
        "\r\n",
        "Carros[1].update({'Matricula':Matricula_2})\r\n",
        "Carros[1].update({'Modelo':Modelo_2})\r\n",
        "Carros[1].update({'Año':Año_2})\r\n",
        "\r\n",
        "\r\n",
        "print(Carros[0])\r\n",
        "print(Carros[1])"
      ],
      "execution_count": 7,
      "outputs": [
        {
          "output_type": "stream",
          "text": [
            "Escribe la matricula: 273\n",
            "Coloca el modelo de carro: sears\n",
            "Introduce el año: 2008\n",
            "Escribe la matricula: 3727\n",
            "Coloca el modelo de carro: ñeñe\n",
            "Introduce el año: 2012\n",
            "{'Matricula': 273, 'Modelo': 'sears', 'Año': 2008}\n",
            "{'Matricula': 3727, 'Modelo': 'ñeñe', 'Año': 2012}\n"
          ],
          "name": "stdout"
        }
      ]
    }
  ]
}