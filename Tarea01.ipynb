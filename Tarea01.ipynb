{
  "nbformat": 4,
  "nbformat_minor": 0,
  "metadata": {
    "colab": {
      "name": "Untitled1.ipynb",
      "provenance": [],
      "collapsed_sections": []
    },
    "kernelspec": {
      "name": "python3",
      "display_name": "Python 3"
    }
  },
  "cells": [
    {
      "cell_type": "code",
      "metadata": {
        "colab": {
          "base_uri": "https://localhost:8080/"
        },
        "id": "ObsNZPL3KQRA",
        "outputId": "cbad0ebd-655a-43a3-e337-a860f083904c"
      },
      "source": [
        "#Creando una variable string \r\n",
        "\r\n",
        "#imprimiendo la variable \r\n",
        "Mensaje = \"Hola\"\r\n",
        "#print(Mensaje)\r\n",
        "\r\n",
        "print(\"\\t¿Cómo estás? \\n \\tEstoy bien\",Mensaje)"
      ],
      "execution_count": 9,
      "outputs": [
        {
          "output_type": "stream",
          "text": [
            "\t¿Cómo estás? \n",
            " \tEstoy bien Hola\n"
          ],
          "name": "stdout"
        }
      ]
    },
    {
      "cell_type": "code",
      "metadata": {
        "colab": {
          "base_uri": "https://localhost:8080/"
        },
        "id": "v5gruE1yNlaT",
        "outputId": "7dac90b0-585c-45a7-b689-c1240a8d25e6"
      },
      "source": [
        "#concatenación de strings \r\n",
        "M_1 = \"Estoy\"\r\n",
        "M_2 = \" Meando\"\r\n",
        "M_3 = \" Parado\"\r\n",
        "M_total = M_1 + M_2 + M_3\r\n",
        "#print (M_total)\r\n",
        "#print(M_1 + M_2 + M_3 + \" Silvando\")\r\n",
        "Numero_1 = \"1\"\r\n",
        "Numero_2 = \"2\"\r\n",
        "Numero_3 = Numero_1 + Numero_2\r\n",
        "print(Numero_3)\r\n"
      ],
      "execution_count": 15,
      "outputs": [
        {
          "output_type": "stream",
          "text": [
            "12\n"
          ],
          "name": "stdout"
        }
      ]
    },
    {
      "cell_type": "code",
      "metadata": {
        "colab": {
          "base_uri": "https://localhost:8080/"
        },
        "id": "JBTNNOoDP9XM",
        "outputId": "c22e2717-a085-408b-fdd0-6c5839df3115"
      },
      "source": [
        "print(\"¿Cuál es tu nombre?\")\r\n",
        "#solicitando al usuario un string \r\n",
        "Nombre = input ()\r\n",
        "\r\n",
        "#print(Nombre)\r\n",
        "\r\n",
        "#solicitando un string al usuario mediante un mensaje \r\n",
        "Apellido = input(\"¿Cuál es tu apellido? \")\r\n",
        "\r\n",
        "print(\"Mi nombre es\",Nombre, Apellido)"
      ],
      "execution_count": 21,
      "outputs": [
        {
          "output_type": "stream",
          "text": [
            "¿Cuál es tu nombre?\n",
            "Hilde\n",
            "¿Cuál es tu apellido? Yépez\n",
            "Mi nombre es Hilde Yépez\n"
          ],
          "name": "stdout"
        }
      ]
    }
  ]
}