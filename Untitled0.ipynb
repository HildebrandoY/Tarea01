{
  "nbformat": 4,
  "nbformat_minor": 0,
  "metadata": {
    "colab": {
      "name": "Untitled0.ipynb",
      "provenance": []
    },
    "kernelspec": {
      "name": "python3",
      "display_name": "Python 3"
    }
  },
  "cells": [
    {
      "cell_type": "code",
      "metadata": {
        "colab": {
          "base_uri": "https://localhost:8080/"
        },
        "id": "RPBSrJDk5YHi",
        "outputId": "4205bd1f-f1b1-4cca-b7f3-80deaad0034b"
      },
      "source": [
        "\r\n",
        "H = [[1,4,8], [2,2,7], [9, 5, 3]]\r\n",
        "print(H)\r\n",
        "\r\n",
        "for i in range(3):\r\n",
        "\r\n",
        "   2*H[i]\r\n",
        "print(W)"
      ],
      "execution_count": 16,
      "outputs": [
        {
          "output_type": "stream",
          "text": [
            "[[1, 4, 8], [2, 2, 7], [9, 5, 3]]\n",
            "[[2, 8, 16], [4, 4, 14], [18, 10, 6]]\n"
          ],
          "name": "stdout"
        }
      ]
    },
    {
      "cell_type": "code",
      "metadata": {
        "id": "N-sNoyTX3uJy"
      },
      "source": [
        ""
      ],
      "execution_count": null,
      "outputs": []
    }
  ]
}